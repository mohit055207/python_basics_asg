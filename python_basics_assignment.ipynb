{
  "nbformat": 4,
  "nbformat_minor": 0,
  "metadata": {
    "colab": {
      "provenance": []
    },
    "kernelspec": {
      "name": "python3",
      "display_name": "Python 3"
    },
    "language_info": {
      "name": "python"
    }
  },
  "cells": [
    {
      "cell_type": "markdown",
      "source": [
        "# modelue 2: python basics assignment"
      ],
      "metadata": {
        "id": "Jh2YJSNqrKq1"
      }
    },
    {
      "cell_type": "markdown",
      "source": [
        "#theoretical questions"
      ],
      "metadata": {
        "id": "BFGdPb8vsA8a"
      }
    },
    {
      "cell_type": "markdown",
      "source": [
        "1. What is Python, and why is it popular?\n",
        "\n",
        "->  Python is a high-level, interpreted, general-purpose programming language that emphasizes readability and simplicity. It was created by Guido van Rossum and first released in 1991. Python is known for its clear syntax, which allows developers to write clean and maintainable code. It's used for a wide range of programming tasks, from web development to scientific computing and artificial intelligence."
      ],
      "metadata": {
        "id": "BJFDGgPYrRo3"
      }
    },
    {
      "cell_type": "markdown",
      "source": [
        "2. What is an interpreter in Python?\n",
        "-> An interpreter in Python is a program that reads and executes the Python code line-by-line. Unlike compiled languages, where the entire code is converted to machine code before execution, an interpreted language like Python translates the code at runtime, executing each instruction one by one."
      ],
      "metadata": {
        "id": "dy6Xh8W4rV6z"
      }
    },
    {
      "cell_type": "markdown",
      "source": [
        "3. What are pre-defined keywords in Python?\n",
        "-> In Python, pre-defined keywords (also known as reserved words) are special words that have a predefined meaning in the Python language. These words cannot be used as identifiers (such as variable names, function names, etc.) because they are reserved for specific functionality within the language."
      ],
      "metadata": {
        "id": "7Mvuhx8prXQL"
      }
    },
    {
      "cell_type": "markdown",
      "source": [
        "4.  Can keywords be used as variable names?\n",
        "-> No, keywords in Python cannot be used as variable names. Keywords are reserved words that have special meanings within the language, and using them as variable names would cause a syntax error."
      ],
      "metadata": {
        "id": "2iYXnzdTraim"
      }
    },
    {
      "cell_type": "markdown",
      "source": [
        "5. What is mutability in Python?\n",
        "-> Mutability in Python refers to the ability of an object to be modified after it is created. In Python, some objects are mutable, meaning their contents or state can be changed after creation, while others are immutable, meaning their state cannot be modified once they are created."
      ],
      "metadata": {
        "id": "fDuSJQ-zrd3U"
      }
    },
    {
      "cell_type": "code",
      "source": [],
      "metadata": {
        "id": "FFoXLs6RxoMR"
      },
      "execution_count": null,
      "outputs": []
    },
    {
      "cell_type": "markdown",
      "source": [
        "6. Why are lists mutable, but tuples are immutable?\n",
        "-> Lists are mutable to allow flexibility in modifying their contents, while tuples are immutable to ensure data integrity and prevent accidental changes."
      ],
      "metadata": {
        "id": "w4f8e3VJrha6"
      }
    },
    {
      "cell_type": "markdown",
      "source": [
        "7. What is the difference between \"==\" and \"is\" operators in Python?\n",
        "-> the difference between \"==\" and \"is\" operators in Python is:\n",
        "*   \"==\" checks for equality of values.\n",
        "*   \"is\" checks if two objects refer to the same memory location (identity)."
      ],
      "metadata": {
        "id": "VgziHOIvrlLy"
      }
    },
    {
      "cell_type": "markdown",
      "source": [
        "8. What are logical operators in Python?\n",
        "-> Logical operators in Python are:\n",
        "*   and: Returns True if both conditions are true.\n",
        "*   or: Returns True if at least one condition is true.\n",
        "*   not: Negates the truth value of a condition."
      ],
      "metadata": {
        "id": "D4Q4khK4rpTS"
      }
    },
    {
      "cell_type": "markdown",
      "source": [
        "9. What is type casting in Python?\n",
        "-> Type casting is the process of converting a variable from one data type to another, such as converting a string to an integer using int() or a float to a string using str()."
      ],
      "metadata": {
        "id": "2EbCVqWIrtQX"
      }
    },
    {
      "cell_type": "markdown",
      "source": [
        "10. What is the difference between implicit and explicit type casting?\n",
        "-> The difference between implicit and explicit type casting is:\n",
        "* Implicit type casting: The Python interpreter automatically converts one data type to another (e.g., int to float).\n",
        "* Explicit type casting: The programmer manually converts the data type using functions like int(), float(), or str()."
      ],
      "metadata": {
        "id": "__gr953Nrwj0"
      }
    },
    {
      "cell_type": "markdown",
      "source": [
        "11. What is the purpose of conditional statements in Python?\n",
        "-> Conditional statements (e.g., if, elif, else) allow the program to execute different code blocks based on certain conditions."
      ],
      "metadata": {
        "id": "qJJbLZWMrztn"
      }
    },
    {
      "cell_type": "markdown",
      "source": [
        "12. How does the elif statement work?\n",
        "-> The elif statement provides an additional condition to test when the previous if condition evaluates to False. It stands for \"else if.\""
      ],
      "metadata": {
        "id": "mXEH4526r2uD"
      }
    },
    {
      "cell_type": "markdown",
      "source": [
        "13. What is the difference between for and while loops?\n",
        "-> the difference between for and while loops is:\n",
        "* For loop: Iterates over a sequence (e.g., list, string) or a range of numbers. It is used when the number of iterations is known.\n",
        "* While loop: Repeats as long as a condition is true. It is used when the number of iterations is unknown."
      ],
      "metadata": {
        "id": "RSN5UbQFr5ab"
      }
    },
    {
      "cell_type": "markdown",
      "source": [
        "14. Describe a scenario where a while loop is more suitable than a for loop.\n",
        "-> A while loop is more suitable when you do not know the exact number of iterations in advance. For example, repeatedly prompting a user for input until they enter a valid value."
      ],
      "metadata": {
        "id": "bK4TYzP-r72p"
      }
    },
    {
      "cell_type": "markdown",
      "source": [
        "#coding questions"
      ],
      "metadata": {
        "id": "O8LfChSTsJye"
      }
    },
    {
      "cell_type": "code",
      "source": [
        "#1. Write a Python program to print \"Hello, World!\"\n",
        "print(\"Hello, World!\")"
      ],
      "metadata": {
        "colab": {
          "base_uri": "https://localhost:8080/"
        },
        "id": "IzRSXsGxsNWl",
        "outputId": "9d7d69ac-519b-4418-ba71-97e31dd81757"
      },
      "execution_count": null,
      "outputs": [
        {
          "output_type": "stream",
          "name": "stdout",
          "text": [
            "Hello, World!\n"
          ]
        }
      ]
    },
    {
      "cell_type": "code",
      "source": [
        "#2. Write a Python program that displays your name and age.\n",
        "name = \"Mohit\"\n",
        "age = 17\n",
        "print(f\"My name is {name} and I am {age} years old.\")"
      ],
      "metadata": {
        "colab": {
          "base_uri": "https://localhost:8080/"
        },
        "id": "JHBvKmRBsPcN",
        "outputId": "31eb8760-1dc1-4a29-ec31-9898e7c6fd1f"
      },
      "execution_count": null,
      "outputs": [
        {
          "output_type": "stream",
          "name": "stdout",
          "text": [
            "My name is Mohit and I am 17 years old.\n"
          ]
        }
      ]
    },
    {
      "cell_type": "code",
      "source": [
        "#3. Write code to print all the pre-defined keywords in Python using the keyword library.\n",
        "import keyword\n",
        "print(keyword.kwlist)"
      ],
      "metadata": {
        "colab": {
          "base_uri": "https://localhost:8080/"
        },
        "id": "rVJs7qgOsRBl",
        "outputId": "2bd1f38b-c8f9-481c-89a6-cd451f9e0883"
      },
      "execution_count": null,
      "outputs": [
        {
          "output_type": "stream",
          "name": "stdout",
          "text": [
            "['False', 'None', 'True', 'and', 'as', 'assert', 'async', 'await', 'break', 'class', 'continue', 'def', 'del', 'elif', 'else', 'except', 'finally', 'for', 'from', 'global', 'if', 'import', 'in', 'is', 'lambda', 'nonlocal', 'not', 'or', 'pass', 'raise', 'return', 'try', 'while', 'with', 'yield']\n"
          ]
        }
      ]
    },
    {
      "cell_type": "code",
      "source": [
        "#4. Write a program that checks if a given word is a Python keyword.\n",
        "import keyword\n",
        "word = input(\"Enter a word: \")\n",
        "if keyword.iskeyword(word):\n",
        "    print(f\"{word} is a Python keyword.\")\n",
        "else:\n",
        "    print(f\"{word} is not a Python keyword.\")"
      ],
      "metadata": {
        "colab": {
          "base_uri": "https://localhost:8080/"
        },
        "id": "nnNINbNDsVf8",
        "outputId": "9198d8c5-5b56-416d-8872-09dbc12dd6e2"
      },
      "execution_count": null,
      "outputs": [
        {
          "output_type": "stream",
          "name": "stdout",
          "text": [
            "Enter a word: function\n",
            "function is not a Python keyword.\n"
          ]
        }
      ]
    },
    {
      "cell_type": "code",
      "source": [],
      "metadata": {
        "id": "-1wrSlvPxzrm"
      },
      "execution_count": null,
      "outputs": []
    },
    {
      "cell_type": "code",
      "source": [],
      "metadata": {
        "id": "rIcr7RfHx0RW"
      },
      "execution_count": null,
      "outputs": []
    },
    {
      "cell_type": "code",
      "source": [],
      "metadata": {
        "id": "XzF4ucrvx0tQ"
      },
      "execution_count": null,
      "outputs": []
    },
    {
      "cell_type": "code",
      "source": [],
      "metadata": {
        "id": "EVUGYXJvx1Xs"
      },
      "execution_count": null,
      "outputs": []
    },
    {
      "cell_type": "code",
      "source": [],
      "metadata": {
        "id": "kY_3bYJPx1w6"
      },
      "execution_count": null,
      "outputs": []
    },
    {
      "cell_type": "code",
      "source": [
        "#5. Create a list and tuple in Python, and demonstrate how attempting to change an element works differently for each.\n",
        "my_list = [1, 2, 3]\n",
        "my_tuple = (1, 2, 3)\n",
        "\n",
        "# Modify list\n",
        "my_list[0] = 10\n",
        "print(\"Modified list:\", my_list)\n",
        "\n",
        "# Attempt to modify tuple\n",
        "try:\n",
        "    my_tuple[0] = 10\n",
        "except TypeError:\n",
        "    print(\"Tuples are immutable, so elements cannot be modified.\")"
      ],
      "metadata": {
        "colab": {
          "base_uri": "https://localhost:8080/"
        },
        "id": "cGm3iVvCsXnV",
        "outputId": "7a99a223-ea54-420d-e609-05160bda4187"
      },
      "execution_count": null,
      "outputs": [
        {
          "output_type": "stream",
          "name": "stdout",
          "text": [
            "Modified list: [10, 2, 3]\n",
            "Tuples are immutable, so elements cannot be modified.\n"
          ]
        }
      ]
    },
    {
      "cell_type": "code",
      "source": [
        "#6. Write a function to demonstrate the behavior of mutable and immutable arguments.\n",
        "def demonstrate_mutable_immutable():\n",
        "    # Function to modify a mutable argument (list)\n",
        "    def modify_mutable(arg_list):\n",
        "        print(\"Inside modify_mutable - Before modification:\", arg_list)\n",
        "        arg_list.append(100)  # Modifies the original list\n",
        "        print(\"Inside modify_mutable - After modification:\", arg_list)\n",
        "\n",
        "    # Function to modify an immutable argument (integer)\n",
        "    def modify_immutable(arg_num):\n",
        "        print(\"Inside modify_immutable - Before modification:\", arg_num)\n",
        "        arg_num += 10  # Creates a new integer, doesn't change the original\n",
        "        print(\"Inside modify_immutable - After modification:\", arg_num)\n",
        "\n",
        "    # Mutable argument: List\n",
        "    my_list = [1, 2, 3]\n",
        "    print(\"Original mutable argument (list):\", my_list)\n",
        "    modify_mutable(my_list)\n",
        "    print(\"After calling modify_mutable:\", my_list)  # The original list is modified\n",
        "\n",
        "    print(\"-\" * 40)\n",
        "\n",
        "    # Immutable argument: Integer\n",
        "    my_number = 50\n",
        "    print(\"Original immutable argument (integer):\", my_number)\n",
        "    modify_immutable(my_number)\n",
        "    print(\"After calling modify_immutable:\", my_number)  # The original integer remains unchanged\n",
        "\n",
        "# Call the function to demonstrate behavior\n",
        "demonstrate_mutable_immutable()"
      ],
      "metadata": {
        "colab": {
          "base_uri": "https://localhost:8080/"
        },
        "id": "tiioa9x0sdtQ",
        "outputId": "57a1d138-bc17-4242-ac39-1827a30bbc68"
      },
      "execution_count": null,
      "outputs": [
        {
          "output_type": "stream",
          "name": "stdout",
          "text": [
            "Original mutable argument (list): [1, 2, 3]\n",
            "Inside modify_mutable - Before modification: [1, 2, 3]\n",
            "Inside modify_mutable - After modification: [1, 2, 3, 100]\n",
            "After calling modify_mutable: [1, 2, 3, 100]\n",
            "----------------------------------------\n",
            "Original immutable argument (integer): 50\n",
            "Inside modify_immutable - Before modification: 50\n",
            "Inside modify_immutable - After modification: 60\n",
            "After calling modify_immutable: 50\n"
          ]
        }
      ]
    },
    {
      "cell_type": "code",
      "source": [
        "#7. Write a function to demonstrate the behavior of mutable and immutable arguments.\n",
        "def demonstrate_argument_behavior():\n",
        "    # Function to modify a mutable argument (list)\n",
        "    def modify_mutable(mutable_arg):\n",
        "        print(\"Before modification (mutable):\", mutable_arg)\n",
        "        mutable_arg.append(42)  # Modifies the original list\n",
        "        print(\"After modification (mutable):\", mutable_arg)\n",
        "\n",
        "    # Function to modify an immutable argument (integer)\n",
        "    def modify_immutable(immutable_arg):\n",
        "        print(\"Before modification (immutable):\", immutable_arg)\n",
        "        immutable_arg += 42  # Creates a new integer object\n",
        "        print(\"After modification (immutable):\", immutable_arg)\n",
        "\n",
        "    # Demonstrating mutable argument (list)\n",
        "    mutable_list = [1, 2, 3]\n",
        "    print(\"Original mutable argument (list):\", mutable_list)\n",
        "    modify_mutable(mutable_list)\n",
        "    print(\"Mutable argument after function call:\", mutable_list)\n",
        "\n",
        "    print(\"-\" * 40)\n",
        "\n",
        "    # Demonstrating immutable argument (integer)\n",
        "    immutable_number = 10\n",
        "    print(\"Original immutable argument (integer):\", immutable_number)\n",
        "    modify_immutable(immutable_number)\n",
        "    print(\"Immutable argument after function call:\", immutable_number)\n",
        "\n",
        "# Call the function to demonstrate behavior\n",
        "demonstrate_argument_behavior()"
      ],
      "metadata": {
        "colab": {
          "base_uri": "https://localhost:8080/"
        },
        "id": "fkl-204Hsgky",
        "outputId": "5a32d5b5-5779-4251-f9ad-d620acf80f52"
      },
      "execution_count": null,
      "outputs": [
        {
          "output_type": "stream",
          "name": "stdout",
          "text": [
            "Original mutable argument (list): [1, 2, 3]\n",
            "Before modification (mutable): [1, 2, 3]\n",
            "After modification (mutable): [1, 2, 3, 42]\n",
            "Mutable argument after function call: [1, 2, 3, 42]\n",
            "----------------------------------------\n",
            "Original immutable argument (integer): 10\n",
            "Before modification (immutable): 10\n",
            "After modification (immutable): 52\n",
            "Immutable argument after function call: 10\n"
          ]
        }
      ]
    },
    {
      "cell_type": "code",
      "source": [
        "#8. Write a program to demonstrate the use of logical operators.\n",
        "def demonstrate_logical_operators():\n",
        "    # Input values\n",
        "    x = int(input(\"Enter the first number (x): \"))\n",
        "    y = int(input(\"Enter the second number (y): \"))\n",
        "    z = int(input(\"Enter the third number (z): \"))\n",
        "\n",
        "    # Using 'and' operator\n",
        "    print(\"\\nLogical AND:\")\n",
        "    if x > 0 and y > 0:\n",
        "        print(f\"Both x ({x}) and y ({y}) are positive numbers.\")\n",
        "    else:\n",
        "        print(f\"Either x ({x}) or y ({y}) is not positive.\")\n",
        "\n",
        "    # Using 'or' operator\n",
        "    print(\"\\nLogical OR:\")\n",
        "    if x > 0 or z > 0:\n",
        "        print(f\"At least one of x ({x}) or z ({z}) is positive.\")\n",
        "    else:\n",
        "        print(f\"Neither x ({x}) nor z ({z}) is positive.\")\n",
        "\n",
        "    # Using 'not' operator\n",
        "    print(\"\\nLogical NOT:\")\n",
        "    if not (x > 0):\n",
        "        print(f\"x ({x}) is not positive.\")\n",
        "    else:\n",
        "        print(f\"x ({x}) is positive.\")\n",
        "\n",
        "# Call the function\n",
        "demonstrate_logical_operators()"
      ],
      "metadata": {
        "colab": {
          "base_uri": "https://localhost:8080/"
        },
        "id": "wt1QpT33sjVU",
        "outputId": "8cc0257f-6ee7-4850-8189-bfc4de04350b"
      },
      "execution_count": null,
      "outputs": [
        {
          "output_type": "stream",
          "name": "stdout",
          "text": [
            "Enter the first number (x): 23\n",
            "Enter the second number (y): 32\n",
            "Enter the third number (z): 52\n",
            "\n",
            "Logical AND:\n",
            "Both x (23) and y (32) are positive numbers.\n",
            "\n",
            "Logical OR:\n",
            "At least one of x (23) or z (52) is positive.\n",
            "\n",
            "Logical NOT:\n",
            "x (23) is positive.\n"
          ]
        }
      ]
    },
    {
      "cell_type": "code",
      "source": [
        "#9. Write a Python program to convert user input from string to integer, float, and boolean types.\n",
        "def convert_user_input():\n",
        "    # Get user input\n",
        "    user_input = input(\"Enter a value: \")\n",
        "\n",
        "    # Convert to integer\n",
        "    try:\n",
        "        int_value = int(user_input)\n",
        "        print(f\"Converted to integer: {int_value}\")\n",
        "    except ValueError:\n",
        "        print(f\"Cannot convert '{user_input}' to an integer.\")\n",
        "\n",
        "    # Convert to float\n",
        "    try:\n",
        "        float_value = float(user_input)\n",
        "        print(f\"Converted to float: {float_value}\")\n",
        "    except ValueError:\n",
        "        print(f\"Cannot convert '{user_input}' to a float.\")\n",
        "\n",
        "    # Convert to boolean\n",
        "    # Empty strings, \"0\", or \"false\" (case-insensitive) are considered False\n",
        "    bool_value = user_input.strip().lower() not in [\"\", \"0\", \"false\"]\n",
        "    print(f\"Converted to boolean: {bool_value}\")\n",
        "\n",
        "# Call the function\n",
        "convert_user_input()"
      ],
      "metadata": {
        "colab": {
          "base_uri": "https://localhost:8080/"
        },
        "id": "N7akbR_bslu-",
        "outputId": "bc7cbc41-0a52-474d-8132-c923c43d6844"
      },
      "execution_count": null,
      "outputs": [
        {
          "output_type": "stream",
          "name": "stdout",
          "text": [
            "Enter a value: 0\n",
            "Converted to integer: 0\n",
            "Converted to float: 0.0\n",
            "Converted to boolean: False\n"
          ]
        }
      ]
    },
    {
      "cell_type": "code",
      "source": [
        "#10. Write code to demonstrate type casting with list elements.\n",
        "def demonstrate_type_casting_with_list():\n",
        "    # Original list with mixed types\n",
        "    mixed_list = [\"123\", \"45.67\", \"True\", \"False\"]\n",
        "\n",
        "    print(\"Original list:\", mixed_list)\n",
        "\n",
        "    # Convert elements to different types\n",
        "    # Convert to integers (if possible)\n",
        "    int_list = []\n",
        "    for element in mixed_list:\n",
        "        try:\n",
        "            int_list.append(int(float(element)))  # Cast to float first if it's a decimal string\n",
        "        except ValueError:\n",
        "            int_list.append(None)  # Append None if conversion is not possible\n",
        "    print(\"List converted to integers (where possible):\", int_list)\n",
        "\n",
        "    # Convert to floats\n",
        "    float_list = []\n",
        "    for element in mixed_list:\n",
        "        try:\n",
        "            float_list.append(float(element))\n",
        "        except ValueError:\n",
        "            float_list.append(None)  # Append None if conversion is not possible\n",
        "    print(\"List converted to floats (where possible):\", float_list)\n",
        "\n",
        "    # Convert to booleans\n",
        "    bool_list = [bool(element) and element.lower() not in [\"false\", \"0\", \"\"] for element in mixed_list]\n",
        "    print(\"List converted to booleans:\", bool_list)\n",
        "\n",
        "# Call the function\n",
        "demonstrate_type_casting_with_list()"
      ],
      "metadata": {
        "colab": {
          "base_uri": "https://localhost:8080/"
        },
        "id": "2ImgbwXzsvEd",
        "outputId": "fdaee3cf-0a2c-4700-d355-93a929063d8d"
      },
      "execution_count": null,
      "outputs": [
        {
          "output_type": "stream",
          "name": "stdout",
          "text": [
            "Original list: ['123', '45.67', 'True', 'False']\n",
            "List converted to integers (where possible): [123, 45, None, None]\n",
            "List converted to floats (where possible): [123.0, 45.67, None, None]\n",
            "List converted to booleans: [True, True, True, False]\n"
          ]
        }
      ]
    },
    {
      "cell_type": "code",
      "source": [
        "#11. Write a program that checks if a number is positive, negative, or zero.\n",
        "def check_number():\n",
        "    # Get user input\n",
        "    try:\n",
        "        number = float(input(\"Enter a number: \"))\n",
        "\n",
        "        # Check if the number is positive, negative, or zero\n",
        "        if number > 0:\n",
        "            print(f\"The number {number} is positive.\")\n",
        "        elif number < 0:\n",
        "            print(f\"The number {number} is negative.\")\n",
        "        else:\n",
        "            print(f\"The number is zero.\")\n",
        "    except ValueError:\n",
        "        print(\"Invalid input. Please enter a numeric value.\")\n",
        "\n",
        "# Call the function\n",
        "check_number()"
      ],
      "metadata": {
        "colab": {
          "base_uri": "https://localhost:8080/"
        },
        "id": "lXtaiwTwsz-h",
        "outputId": "e7a9fbd6-1597-4e08-c98d-83dfddd17e5b"
      },
      "execution_count": null,
      "outputs": [
        {
          "output_type": "stream",
          "name": "stdout",
          "text": [
            "Enter a number: -33\n",
            "The number -33.0 is negative.\n"
          ]
        }
      ]
    },
    {
      "cell_type": "code",
      "source": [
        "#12. Write a for loop to print numbers from 1 to 100.\n",
        "def print_numbers():\n",
        "    for number in range(1, 101):  # Range starts at 1 and ends at 101 (exclusive)\n",
        "        print(number)\n",
        "\n",
        "# Call the function\n",
        "print_numbers()"
      ],
      "metadata": {
        "colab": {
          "base_uri": "https://localhost:8080/"
        },
        "id": "lkDxNuhAs2ZK",
        "outputId": "40e585d9-2ead-4f5f-b501-3d78bb84ad41"
      },
      "execution_count": null,
      "outputs": [
        {
          "output_type": "stream",
          "name": "stdout",
          "text": [
            "1\n",
            "2\n",
            "3\n",
            "4\n",
            "5\n",
            "6\n",
            "7\n",
            "8\n",
            "9\n",
            "10\n",
            "11\n",
            "12\n",
            "13\n",
            "14\n",
            "15\n",
            "16\n",
            "17\n",
            "18\n",
            "19\n",
            "20\n",
            "21\n",
            "22\n",
            "23\n",
            "24\n",
            "25\n",
            "26\n",
            "27\n",
            "28\n",
            "29\n",
            "30\n",
            "31\n",
            "32\n",
            "33\n",
            "34\n",
            "35\n",
            "36\n",
            "37\n",
            "38\n",
            "39\n",
            "40\n",
            "41\n",
            "42\n",
            "43\n",
            "44\n",
            "45\n",
            "46\n",
            "47\n",
            "48\n",
            "49\n",
            "50\n",
            "51\n",
            "52\n",
            "53\n",
            "54\n",
            "55\n",
            "56\n",
            "57\n",
            "58\n",
            "59\n",
            "60\n",
            "61\n",
            "62\n",
            "63\n",
            "64\n",
            "65\n",
            "66\n",
            "67\n",
            "68\n",
            "69\n",
            "70\n",
            "71\n",
            "72\n",
            "73\n",
            "74\n",
            "75\n",
            "76\n",
            "77\n",
            "78\n",
            "79\n",
            "80\n",
            "81\n",
            "82\n",
            "83\n",
            "84\n",
            "85\n",
            "86\n",
            "87\n",
            "88\n",
            "89\n",
            "90\n",
            "91\n",
            "92\n",
            "93\n",
            "94\n",
            "95\n",
            "96\n",
            "97\n",
            "98\n",
            "99\n",
            "100\n"
          ]
        }
      ]
    },
    {
      "cell_type": "code",
      "source": [
        "#13. Write a Python program to find the sum of all even numbers between 1 and 500.\n",
        "def sum_of_even_numbers():\n",
        "    total = 0\n",
        "    for number in range(2, 501, 2):  # Start from 2, step by 2 to get even numbers\n",
        "        total += number\n",
        "    print(f\"The sum of all even numbers between 1 and 500 is: {total}\")\n",
        "\n",
        "# Call the function\n",
        "sum_of_even_numbers()"
      ],
      "metadata": {
        "colab": {
          "base_uri": "https://localhost:8080/"
        },
        "id": "LdCq2OlCs7TP",
        "outputId": "343100cb-5dce-457b-eace-76ac591f9df8"
      },
      "execution_count": null,
      "outputs": [
        {
          "output_type": "stream",
          "name": "stdout",
          "text": [
            "The sum of all even numbers between 1 and 500 is: 62750\n"
          ]
        }
      ]
    },
    {
      "cell_type": "code",
      "source": [
        "#14. Write a program to reverse a string using a while loop.\n",
        "def reverse_string():\n",
        "    # Get user input\n",
        "    original_string = input(\"Enter a string to reverse: \")\n",
        "\n",
        "    # Initialize variables\n",
        "    reversed_string = \"\"\n",
        "    index = len(original_string) - 1  # Start from the last character\n",
        "\n",
        "    # Reverse the string using a while loop\n",
        "    while index >= 0:\n",
        "        reversed_string += original_string[index]\n",
        "        index -= 1  # Move to the previous character\n",
        "\n",
        "    print(f\"Reversed string: {reversed_string}\")\n",
        "\n",
        "# Call the function\n",
        "reverse_string()"
      ],
      "metadata": {
        "colab": {
          "base_uri": "https://localhost:8080/"
        },
        "id": "3JXdWYI5s9zB",
        "outputId": "27bcb54e-eb9b-47ea-c6b7-eba1a0d0427b"
      },
      "execution_count": null,
      "outputs": [
        {
          "output_type": "stream",
          "name": "stdout",
          "text": [
            "Enter a string to reverse: hello\n",
            "Reversed string: olleh\n"
          ]
        }
      ]
    },
    {
      "cell_type": "code",
      "source": [
        "#15. Write a Python program to calculate the factorial of a number provided by the user using a while loop.\n",
        "def calculate_factorial():\n",
        "    # Get user input\n",
        "    try:\n",
        "        number = int(input(\"Enter a non-negative integer to calculate its factorial: \"))\n",
        "        if number < 0:\n",
        "            print(\"Factorial is not defined for negative numbers.\")\n",
        "            return\n",
        "\n",
        "        # Initialize variables\n",
        "        factorial = 1\n",
        "        counter = number\n",
        "\n",
        "        # Calculate factorial using a while loop\n",
        "        while counter > 0:\n",
        "            factorial *= counter\n",
        "            counter -= 1  # Decrease the counter\n",
        "\n",
        "        print(f\"The factorial of {number} is: {factorial}\")\n",
        "    except ValueError:\n",
        "        print(\"Invalid input. Please enter a non-negative integer.\")\n",
        "\n",
        "# Call the function\n",
        "calculate_factorial()"
      ],
      "metadata": {
        "colab": {
          "base_uri": "https://localhost:8080/"
        },
        "id": "rxafUccns_ic",
        "outputId": "68b2f50d-f90a-417d-9d3b-8c902cd0591a"
      },
      "execution_count": null,
      "outputs": [
        {
          "output_type": "stream",
          "name": "stdout",
          "text": [
            "Enter a non-negative integer to calculate its factorial: 7\n",
            "The factorial of 7 is: 5040\n"
          ]
        }
      ]
    }
  ]
}